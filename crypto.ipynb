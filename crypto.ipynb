{
 "cells": [
  {
   "cell_type": "code",
   "execution_count": 1,
   "metadata": {},
   "outputs": [],
   "source": [
    "import urllib.request\n",
    "import json\n",
    "url = \"https://api.nomics.com/v1/currencies/ticker?key=9d876aa144dc791bff11cb5b07a01d3d&ids=BTC,ETH,XRP&interval=1d,30d&convert=USD\"\n",
    "\n",
    "class nomics_api:\n",
    "\n",
    "    def crypto_json(self,url):\n",
    "        return urllib.request.urlopen(url).read()\n",
    "    \n",
    "    def conv_object(self):\n",
    "        obj =json.loads(nomics.crypto_json(url))\n",
    "        return json.dumps(obj, indent=2)\n",
    "   \n",
    "nomics = nomics_api()\n",
    "#print(nomics.conv_object())"
   ]
  },
  {
   "cell_type": "code",
   "execution_count": null,
   "metadata": {},
   "outputs": [
    {
     "name": "stdout",
     "output_type": "stream",
     "text": [
      "7148.95159277 USD"
     ]
    }
   ],
   "source": [
    "import json\n",
    "import time\n",
    "while True:\n",
    "    try:\n",
    "        st=json.loads(nomics.crypto_json(url))\n",
    "        print (\"\\r\"+st[0]['price']+\" USD\", end=\"\")\n",
    "        time.sleep(10)\n",
    "    except:\n",
    "        print('CONNECTION FAILED...')\n",
    "        break"
   ]
  },
  {
   "cell_type": "code",
   "execution_count": 23,
   "metadata": {},
   "outputs": [
    {
     "ename": "SyntaxError",
     "evalue": "invalid syntax (<ipython-input-23-76bc17ac00d0>, line 1)",
     "output_type": "error",
     "traceback": [
      "\u001b[1;36m  File \u001b[1;32m\"<ipython-input-23-76bc17ac00d0>\"\u001b[1;36m, line \u001b[1;32m1\u001b[0m\n\u001b[1;33m    is store = list\u001b[0m\n\u001b[1;37m     ^\u001b[0m\n\u001b[1;31mSyntaxError\u001b[0m\u001b[1;31m:\u001b[0m invalid syntax\n"
     ]
    }
   ],
   "source": []
  },
  {
   "cell_type": "code",
   "execution_count": 43,
   "metadata": {},
   "outputs": [
    {
     "name": "stdout",
     "output_type": "stream",
     "text": [
      "[\n",
      "  {\n",
      "    \"id\": \"BTC\",\n",
      "    \"currency\": \"BTC\",\n",
      "    \"symbol\": \"BTC\",\n",
      "    \"name\": \"Bitcoin\",\n",
      "    \"logo_url\": \"https://s3.us-east-2.amazonaws.com/nomics-api/static/images/currencies/btc.svg\",\n",
      "    \"rank\": \"1\",\n",
      "    \"price\": \"7173.15267947\",\n",
      "    \"price_date\": \"2020-04-18T00:00:00Z\",\n",
      "    \"price_timestamp\": \"2020-04-18T13:15:00Z\",\n",
      "    \"market_cap\": \"131497245025\",\n",
      "    \"circulating_supply\": \"18331862\",\n",
      "    \"max_supply\": \"21000000\",\n",
      "    \"1d\": {\n",
      "      \"price_change\": \"121.21361749\",\n",
      "      \"price_change_pct\": \"0.0172\",\n",
      "      \"volume\": \"33627148161.91\",\n",
      "      \"volume_change\": \"-4860888148.85\",\n",
      "      \"volume_change_pct\": \"-0.1263\",\n",
      "      \"market_cap_change\": \"2234941097.10\",\n",
      "      \"market_cap_change_pct\": \"0.0173\"\n",
      "    },\n",
      "    \"30d\": {\n",
      "      \"price_change\": \"1032.93888868\",\n",
      "      \"price_change_pct\": \"0.1682\",\n",
      "      \"volume\": \"1193671661297.45\",\n",
      "      \"volume_change\": \"-155578222650.67\",\n",
      "      \"volume_change_pct\": \"-0.1153\",\n",
      "      \"market_cap_change\": \"19269947979.92\",\n",
      "      \"market_cap_change_pct\": \"0.1717\"\n",
      "    },\n",
      "    \"high\": \"19381.94110067\",\n",
      "    \"high_timestamp\": \"2017-12-16T00:00:00Z\"\n",
      "  },\n",
      "  {\n",
      "    \"id\": \"ETH\",\n",
      "    \"currency\": \"ETH\",\n",
      "    \"symbol\": \"ETH\",\n",
      "    \"name\": \"Ethereum\",\n",
      "    \"logo_url\": \"https://s3.us-east-2.amazonaws.com/nomics-api/static/images/currencies/eth.svg\",\n",
      "    \"rank\": \"2\",\n",
      "    \"price\": \"180.34151845\",\n",
      "    \"price_date\": \"2020-04-18T00:00:00Z\",\n",
      "    \"price_timestamp\": \"2020-04-18T13:15:00Z\",\n",
      "    \"market_cap\": \"19940215866\",\n",
      "    \"circulating_supply\": \"110569191\",\n",
      "    \"1d\": {\n",
      "      \"price_change\": \"10.76693767\",\n",
      "      \"price_change_pct\": \"0.0635\",\n",
      "      \"volume\": \"14377445012.83\",\n",
      "      \"volume_change\": \"-3860805596.27\",\n",
      "      \"volume_change_pct\": \"-0.2117\",\n",
      "      \"market_cap_change\": \"1192809644.89\",\n",
      "      \"market_cap_change_pct\": \"0.0636\"\n",
      "    },\n",
      "    \"30d\": {\n",
      "      \"price_change\": \"43.74383921\",\n",
      "      \"price_change_pct\": \"0.3202\",\n",
      "      \"volume\": \"438957829211.91\",\n",
      "      \"volume_change\": \"-177491849254.68\",\n",
      "      \"volume_change_pct\": \"-0.2879\",\n",
      "      \"market_cap_change\": \"4892625902.37\",\n",
      "      \"market_cap_change_pct\": \"0.3251\"\n",
      "    },\n",
      "    \"high\": \"1399.57967546\",\n",
      "    \"high_timestamp\": \"2018-01-13T00:00:00Z\"\n",
      "  },\n",
      "  {\n",
      "    \"id\": \"XRP\",\n",
      "    \"currency\": \"XRP\",\n",
      "    \"symbol\": \"XRP\",\n",
      "    \"name\": \"Ripple\",\n",
      "    \"logo_url\": \"https://s3.us-east-2.amazonaws.com/nomics-api/static/images/currencies/XRP.svg\",\n",
      "    \"rank\": \"3\",\n",
      "    \"price\": \"0.19149454\",\n",
      "    \"price_date\": \"2020-04-18T00:00:00Z\",\n",
      "    \"price_timestamp\": \"2020-04-18T13:14:00Z\",\n",
      "    \"market_cap\": \"8442921805\",\n",
      "    \"circulating_supply\": \"44089620959\",\n",
      "    \"max_supply\": \"100000000000\",\n",
      "    \"1d\": {\n",
      "      \"price_change\": \"0.00395226\",\n",
      "      \"price_change_pct\": \"0.0211\",\n",
      "      \"volume\": \"1580726140.70\",\n",
      "      \"volume_change\": \"-518000668.35\",\n",
      "      \"volume_change_pct\": \"-0.2468\",\n",
      "      \"market_cap_change\": \"174253652.47\",\n",
      "      \"market_cap_change_pct\": \"0.0211\"\n",
      "    },\n",
      "    \"30d\": {\n",
      "      \"price_change\": \"0.02703186\",\n",
      "      \"price_change_pct\": \"0.1644\",\n",
      "      \"volume\": \"66323360482.46\",\n",
      "      \"volume_change\": \"-14102146975.63\",\n",
      "      \"volume_change_pct\": \"-0.1753\",\n",
      "      \"market_cap_change\": \"1232446026.44\",\n",
      "      \"market_cap_change_pct\": \"0.1709\"\n",
      "    },\n",
      "    \"high\": \"2.78141401\",\n",
      "    \"high_timestamp\": \"2018-01-07T00:00:00Z\"\n",
      "  }\n",
      "]\n"
     ]
    }
   ],
   "source": [
    "import json \n",
    "s = json.dumps(st, indent=2)\n",
    "print(s)\n"
   ]
  },
  {
   "cell_type": "code",
   "execution_count": 10,
   "metadata": {},
   "outputs": [
    {
     "ename": "TypeError",
     "evalue": "Object of type bytes is not JSON serializable",
     "output_type": "error",
     "traceback": [
      "\u001b[1;31m---------------------------------------------------------------------------\u001b[0m",
      "\u001b[1;31mTypeError\u001b[0m                                 Traceback (most recent call last)",
      "\u001b[1;32m<ipython-input-10-bb3101159fd0>\u001b[0m in \u001b[0;36m<module>\u001b[1;34m\u001b[0m\n\u001b[1;32m----> 1\u001b[1;33m \u001b[0mprint\u001b[0m\u001b[1;33m(\u001b[0m\u001b[0mjson\u001b[0m\u001b[1;33m.\u001b[0m\u001b[0mdumps\u001b[0m\u001b[1;33m(\u001b[0m\u001b[0mnomics\u001b[0m\u001b[1;33m.\u001b[0m\u001b[0mcrypto\u001b[0m\u001b[1;33m(\u001b[0m\u001b[0murl\u001b[0m\u001b[1;33m)\u001b[0m\u001b[1;33m)\u001b[0m\u001b[1;33m,\u001b[0m \u001b[0mindent\u001b[0m\u001b[1;33m=\u001b[0m\u001b[1;36m2\u001b[0m\u001b[1;33m)\u001b[0m\u001b[1;33m\u001b[0m\u001b[1;33m\u001b[0m\u001b[0m\n\u001b[0m",
      "\u001b[1;32mC:\\ProgramData\\Anaconda3\\lib\\json\\__init__.py\u001b[0m in \u001b[0;36mdumps\u001b[1;34m(obj, skipkeys, ensure_ascii, check_circular, allow_nan, cls, indent, separators, default, sort_keys, **kw)\u001b[0m\n\u001b[0;32m    229\u001b[0m         \u001b[0mcls\u001b[0m \u001b[1;32mis\u001b[0m \u001b[1;32mNone\u001b[0m \u001b[1;32mand\u001b[0m \u001b[0mindent\u001b[0m \u001b[1;32mis\u001b[0m \u001b[1;32mNone\u001b[0m \u001b[1;32mand\u001b[0m \u001b[0mseparators\u001b[0m \u001b[1;32mis\u001b[0m \u001b[1;32mNone\u001b[0m \u001b[1;32mand\u001b[0m\u001b[1;33m\u001b[0m\u001b[1;33m\u001b[0m\u001b[0m\n\u001b[0;32m    230\u001b[0m         default is None and not sort_keys and not kw):\n\u001b[1;32m--> 231\u001b[1;33m         \u001b[1;32mreturn\u001b[0m \u001b[0m_default_encoder\u001b[0m\u001b[1;33m.\u001b[0m\u001b[0mencode\u001b[0m\u001b[1;33m(\u001b[0m\u001b[0mobj\u001b[0m\u001b[1;33m)\u001b[0m\u001b[1;33m\u001b[0m\u001b[1;33m\u001b[0m\u001b[0m\n\u001b[0m\u001b[0;32m    232\u001b[0m     \u001b[1;32mif\u001b[0m \u001b[0mcls\u001b[0m \u001b[1;32mis\u001b[0m \u001b[1;32mNone\u001b[0m\u001b[1;33m:\u001b[0m\u001b[1;33m\u001b[0m\u001b[1;33m\u001b[0m\u001b[0m\n\u001b[0;32m    233\u001b[0m         \u001b[0mcls\u001b[0m \u001b[1;33m=\u001b[0m \u001b[0mJSONEncoder\u001b[0m\u001b[1;33m\u001b[0m\u001b[1;33m\u001b[0m\u001b[0m\n",
      "\u001b[1;32mC:\\ProgramData\\Anaconda3\\lib\\json\\encoder.py\u001b[0m in \u001b[0;36mencode\u001b[1;34m(self, o)\u001b[0m\n\u001b[0;32m    197\u001b[0m         \u001b[1;31m# exceptions aren't as detailed.  The list call should be roughly\u001b[0m\u001b[1;33m\u001b[0m\u001b[1;33m\u001b[0m\u001b[1;33m\u001b[0m\u001b[0m\n\u001b[0;32m    198\u001b[0m         \u001b[1;31m# equivalent to the PySequence_Fast that ''.join() would do.\u001b[0m\u001b[1;33m\u001b[0m\u001b[1;33m\u001b[0m\u001b[1;33m\u001b[0m\u001b[0m\n\u001b[1;32m--> 199\u001b[1;33m         \u001b[0mchunks\u001b[0m \u001b[1;33m=\u001b[0m \u001b[0mself\u001b[0m\u001b[1;33m.\u001b[0m\u001b[0miterencode\u001b[0m\u001b[1;33m(\u001b[0m\u001b[0mo\u001b[0m\u001b[1;33m,\u001b[0m \u001b[0m_one_shot\u001b[0m\u001b[1;33m=\u001b[0m\u001b[1;32mTrue\u001b[0m\u001b[1;33m)\u001b[0m\u001b[1;33m\u001b[0m\u001b[1;33m\u001b[0m\u001b[0m\n\u001b[0m\u001b[0;32m    200\u001b[0m         \u001b[1;32mif\u001b[0m \u001b[1;32mnot\u001b[0m \u001b[0misinstance\u001b[0m\u001b[1;33m(\u001b[0m\u001b[0mchunks\u001b[0m\u001b[1;33m,\u001b[0m \u001b[1;33m(\u001b[0m\u001b[0mlist\u001b[0m\u001b[1;33m,\u001b[0m \u001b[0mtuple\u001b[0m\u001b[1;33m)\u001b[0m\u001b[1;33m)\u001b[0m\u001b[1;33m:\u001b[0m\u001b[1;33m\u001b[0m\u001b[1;33m\u001b[0m\u001b[0m\n\u001b[0;32m    201\u001b[0m             \u001b[0mchunks\u001b[0m \u001b[1;33m=\u001b[0m \u001b[0mlist\u001b[0m\u001b[1;33m(\u001b[0m\u001b[0mchunks\u001b[0m\u001b[1;33m)\u001b[0m\u001b[1;33m\u001b[0m\u001b[1;33m\u001b[0m\u001b[0m\n",
      "\u001b[1;32mC:\\ProgramData\\Anaconda3\\lib\\json\\encoder.py\u001b[0m in \u001b[0;36miterencode\u001b[1;34m(self, o, _one_shot)\u001b[0m\n\u001b[0;32m    255\u001b[0m                 \u001b[0mself\u001b[0m\u001b[1;33m.\u001b[0m\u001b[0mkey_separator\u001b[0m\u001b[1;33m,\u001b[0m \u001b[0mself\u001b[0m\u001b[1;33m.\u001b[0m\u001b[0mitem_separator\u001b[0m\u001b[1;33m,\u001b[0m \u001b[0mself\u001b[0m\u001b[1;33m.\u001b[0m\u001b[0msort_keys\u001b[0m\u001b[1;33m,\u001b[0m\u001b[1;33m\u001b[0m\u001b[1;33m\u001b[0m\u001b[0m\n\u001b[0;32m    256\u001b[0m                 self.skipkeys, _one_shot)\n\u001b[1;32m--> 257\u001b[1;33m         \u001b[1;32mreturn\u001b[0m \u001b[0m_iterencode\u001b[0m\u001b[1;33m(\u001b[0m\u001b[0mo\u001b[0m\u001b[1;33m,\u001b[0m \u001b[1;36m0\u001b[0m\u001b[1;33m)\u001b[0m\u001b[1;33m\u001b[0m\u001b[1;33m\u001b[0m\u001b[0m\n\u001b[0m\u001b[0;32m    258\u001b[0m \u001b[1;33m\u001b[0m\u001b[0m\n\u001b[0;32m    259\u001b[0m def _make_iterencode(markers, _default, _encoder, _indent, _floatstr,\n",
      "\u001b[1;32mC:\\ProgramData\\Anaconda3\\lib\\json\\encoder.py\u001b[0m in \u001b[0;36mdefault\u001b[1;34m(self, o)\u001b[0m\n\u001b[0;32m    177\u001b[0m \u001b[1;33m\u001b[0m\u001b[0m\n\u001b[0;32m    178\u001b[0m         \"\"\"\n\u001b[1;32m--> 179\u001b[1;33m         raise TypeError(f'Object of type {o.__class__.__name__} '\n\u001b[0m\u001b[0;32m    180\u001b[0m                         f'is not JSON serializable')\n\u001b[0;32m    181\u001b[0m \u001b[1;33m\u001b[0m\u001b[0m\n",
      "\u001b[1;31mTypeError\u001b[0m: Object of type bytes is not JSON serializable"
     ]
    }
   ],
   "source": [
    "print(nomics.crypto(url))"
   ]
  },
  {
   "cell_type": "code",
   "execution_count": null,
   "metadata": {},
   "outputs": [],
   "source": []
  }
 ],
 "metadata": {
  "kernelspec": {
   "display_name": "Python 3",
   "language": "python",
   "name": "python3"
  },
  "language_info": {
   "codemirror_mode": {
    "name": "ipython",
    "version": 3
   },
   "file_extension": ".py",
   "mimetype": "text/x-python",
   "name": "python",
   "nbconvert_exporter": "python",
   "pygments_lexer": "ipython3",
   "version": "3.7.4"
  }
 },
 "nbformat": 4,
 "nbformat_minor": 2
}
